{
 "cells": [
  {
   "cell_type": "code",
   "execution_count": null,
   "id": "1f93e828",
   "metadata": {},
   "outputs": [],
   "source": []
  },
  {
   "cell_type": "code",
   "execution_count": 1,
   "id": "bd4ed585",
   "metadata": {},
   "outputs": [
    {
     "name": "stdout",
     "output_type": "stream",
     "text": [
      "15\n"
     ]
    }
   ],
   "source": [
    "def sum_of_list(input_list):  \n",
    "    return sum(input_list)  \n",
    "\n",
    "input_list = [1, 2, 3, 4, 5]  \n",
    "output = sum_of_list(input_list)  \n",
    "print(output)"
   ]
  },
  {
   "cell_type": "code",
   "execution_count": 4,
   "id": "b1a37199",
   "metadata": {},
   "outputs": [
    {
     "name": "stdout",
     "output_type": "stream",
     "text": [
      "True\n"
     ]
    }
   ],
   "source": [
    "def check_key(dict1, key):  \n",
    "    return key in dict1  \n",
    "\n",
    "dict1 = {'name': 'azin', 'age': 24, 'phone': 3572300}  \n",
    "key= 'age'  \n",
    "result = check_key(dict1, key)  \n",
    "print(result)"
   ]
  },
  {
   "cell_type": "code",
   "execution_count": 6,
   "id": "ac72db2f",
   "metadata": {},
   "outputs": [
    {
     "data": {
      "text/plain": [
       "'olleh'"
      ]
     },
     "execution_count": 6,
     "metadata": {},
     "output_type": "execute_result"
    }
   ],
   "source": [
    "def reverse_string(input_string):  \n",
    "    return input_string[::-1]  \n",
    "\n",
    "input_string = \"hello\"  \n",
    "output_string = reverse_string(input_string)  \n",
    "output_string"
   ]
  },
  {
   "cell_type": "code",
   "execution_count": null,
   "id": "84445992",
   "metadata": {},
   "outputs": [],
   "source": []
  },
  {
   "cell_type": "code",
   "execution_count": null,
   "id": "78b190fd",
   "metadata": {},
   "outputs": [],
   "source": []
  }
 ],
 "metadata": {
  "kernelspec": {
   "display_name": "Python 3 (ipykernel)",
   "language": "python",
   "name": "python3"
  },
  "language_info": {
   "codemirror_mode": {
    "name": "ipython",
    "version": 3
   },
   "file_extension": ".py",
   "mimetype": "text/x-python",
   "name": "python",
   "nbconvert_exporter": "python",
   "pygments_lexer": "ipython3",
   "version": "3.9.12"
  }
 },
 "nbformat": 4,
 "nbformat_minor": 5
}
